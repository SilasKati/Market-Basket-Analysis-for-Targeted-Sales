{
 "cells": [
  {
   "cell_type": "markdown",
   "metadata": {
    "id": "Cf5LRGVPYnfP"
   },
   "source": [
    "### Load Libraries"
   ]
  },
  {
   "cell_type": "code",
   "execution_count": 1,
   "metadata": {
    "id": "K8QoaCA9bbZq"
   },
   "outputs": [],
   "source": [
    "import pandas as pd\n",
    "import matplotlib.pyplot as plt\n",
    "import numpy as np\n",
    "import seaborn as sns\n",
    "from sklearn.model_selection import train_test_split, GridSearchCV, RandomizedSearchCV\n",
    "# from catboost import CatBoostClassifier, Pool\n",
    "import xgboost as xgb\n",
    "\n",
    "#F1-Score Expectation Maximization in O(n^2)\n",
    "#https://www.kaggle.com/mmueller/f1-score-expectation-maximization-in-o-n\n",
    "#https://github.com/KazukiOnodera/Instacart/blob/master/py_model/opt_fscore.py\n",
    "\n",
    "from f1optimization_faron import get_best_prediction\n",
    "\n",
    "from sklearn.tree import DecisionTreeClassifier\n",
    "from sklearn.calibration import CalibratedClassifierCV\n",
    "from sklearn.linear_model import LogisticRegression\n",
    "from sklearn.ensemble import RandomForestClassifier\n",
    "from sklearn.preprocessing import StandardScaler\n",
    "from sklearn.model_selection import GridSearchCV,RandomizedSearchCV\n",
    "from sklearn.metrics import confusion_matrix, accuracy_score, precision_score , log_loss, f1_score\n",
    "\n",
    "import warnings\n",
    "warnings.simplefilter(action='ignore', category=FutureWarning)\n",
    "\n",
    "from datetime import datetime\n",
    "from tqdm import tqdm\n",
    "import pickle\n"
   ]
  },
  {
   "cell_type": "markdown",
   "metadata": {
    "id": "hI3mtUF0YJI9"
   },
   "source": [
    "### Load Data"
   ]
  },
  {
   "cell_type": "code",
   "execution_count": 2,
   "metadata": {},
   "outputs": [],
   "source": [
    "root = '/instacart-market-basket-analysis/'\n",
    "\n",
    "data = pd.HDFStore(\"Data_v2.h5\") #HDF5 format preserves data type after changing them"
   ]
  },
  {
   "cell_type": "code",
   "execution_count": 5,
   "metadata": {
    "id": "U29Jnj4hbbeE"
   },
   "outputs": [],
   "source": [
    "#accessing dataset using keys\n",
    "train_data = data['train']\n",
    "test_data  = data['test']"
   ]
  },
  {
   "cell_type": "code",
   "execution_count": 14,
   "metadata": {},
   "outputs": [
    {
     "data": {
      "text/plain": [
       "0.0    7645837\n",
       "1.0     828824\n",
       "Name: reordered, dtype: int64"
      ]
     },
     "execution_count": 14,
     "metadata": {},
     "output_type": "execute_result"
    }
   ],
   "source": [
    "train_data[\"reordered\"].value_counts()"
   ]
  },
  {
   "cell_type": "markdown",
   "metadata": {
    "id": "uDJ3PDaDYck-"
   },
   "source": [
    "#### Utility Functions"
   ]
  },
  {
   "cell_type": "code",
   "execution_count": 132,
   "metadata": {
    "id": "_6ybKg2xbbgE"
   },
   "outputs": [],
   "source": [
    "def display_target_distribution(y_train, y_val):\n",
    "\n",
    "  \"\"\"\n",
    "  Display target distribution in train and validation data\n",
    "  \"\"\"\n",
    "  _, train_label_counts = np.unique(y_train, return_counts=True)\n",
    "  _, val_label_counts = np.unique(y_val, return_counts=True)\n",
    "\n",
    "\n",
    "  width = 0.35  # the width of the bars\n",
    "  x = np.arange(2)\n",
    "  fig, ax = plt.subplots(figsize=(12,6))\n",
    "  rects1 = ax.bar(x - width/2, train_label_counts, width, label='Train')\n",
    "  rects2 = ax.bar(x + width/2, val_label_counts, width, label='validation')\n",
    "\n",
    "  # Add some text for labels, title and custom x-axis tick labels, etc.\n",
    "  ax.set_ylabel('Number of datapoints')\n",
    "  ax.set_title('Distribution of the Output Variable')\n",
    "  ax.set_xticks(x)\n",
    "  ax.set_xticklabels([0,1])\n",
    "  ax.legend()\n",
    "  plt.show()\n",
    "\n",
    "def random_split(test_size = 0.1):\n",
    "\n",
    "  \"\"\"\n",
    "  Split data randomly into train and validation data \n",
    "  \"\"\"\n",
    "  train_y = train_data['reordered'].values.tolist()\n",
    "  train_x = train_data.drop(['user_id', 'product_id', 'order_id', 'reordered'], axis = 1)\n",
    "\n",
    "  # since there are Millions of data ,we are taking 10% of data in test set , \n",
    "  X_train, X_val, y_train, y_val = train_test_split(train_x, train_y, stratify=train_y, test_size=0.1, random_state = 42)\n",
    "\n",
    "  #display distribution of data\n",
    "  display_target_distribution(y_train, y_val)\n",
    "  return (X_train, y_train),(X_val, y_val)\n",
    "\n",
    "def split_by_user(test_size = 0.1):\n",
    "  \n",
    "  #split on users\n",
    "  sampled_users = train_data['user_id'].sample(n=int(0.1 * train_data['user_id'].nunique()), random_state=42,replace=False).reset_index()\n",
    "  val = train_data[train_data['user_id'].isin(sampled_users['user_id'].tolist())]\n",
    "  train = train_data[~train_data['user_id'].isin(sampled_users['user_id'].tolist())]\n",
    "\n",
    "  y_train = train['reordered'].values.tolist()\n",
    "  X_train = train.drop(['user_id', 'product_id', 'order_id', 'reordered'], axis = 1)\n",
    "\n",
    "  y_val = val['reordered'].values.tolist()\n",
    "  X_val = val.drop(['user_id', 'product_id', 'order_id', 'reordered'], axis = 1)\n",
    "\n",
    "  display_target_distribution(y_train, y_val)\n",
    "  return (X_train, y_train),(X_val, y_val)"
   ]
  },
  {
   "cell_type": "code",
   "execution_count": 133,
   "metadata": {
    "id": "78nyy2QrxyFl"
   },
   "outputs": [],
   "source": [
    "def model_stats(predict_y,y_val):# Plot confusion Matrix\n",
    "\n",
    "  \"\"\"\n",
    "  Display model statistics such as accuracy , precision score and confusion matrix\n",
    "  \"\"\"\n",
    "\n",
    "  #predicted_y =np.array(predict_y>0.5,dtype=int).reshape(-1,).tolist()\n",
    "  cm = confusion_matrix(y_val, predict_y)\n",
    "  sns.heatmap(cm, cmap='Blues', annot = True, fmt=\"g\", annot_kws={\"size\": 12})\n",
    "  plt.show()\n",
    "  print(\"Accuracy :\",accuracy_score(y_val, predict_y))\n",
    "  print(\"Precision :\",precision_score(y_val, predict_y))"
   ]
  },
  {
   "cell_type": "markdown",
   "metadata": {
    "id": "CoQmM6oiwLfP"
   },
   "source": [
    "#### Function to create submission file based on 3 different global threshold"
   ]
  },
  {
   "cell_type": "code",
   "execution_count": 134,
   "metadata": {
    "id": "fI6KPmOprLBP"
   },
   "outputs": [],
   "source": [
    "def convert_to_string(row):\n",
    "    \"\"\"\n",
    "    convert series value to list of strings\n",
    "    \"\"\"\n",
    "    list_string = list(map(str, row.tolist())) # convert series > list > list of strings\n",
    "    return \" \".join(list_string)\n",
    "\n",
    "def globl_threshold_products(model = None, scaler = None, model_type = 'xgb', val_file=\"Data_v2.h5\"):\n",
    "\n",
    "    \"\"\"\n",
    "    Get all products above threshold and join them\n",
    "    \"\"\"\n",
    "\n",
    "    #loading test data\n",
    "    test_data = pd.HDFStore(val_file)\n",
    "    test_data = test_data['test']\n",
    "    data = test_data.drop(['user_id', 'product_id', 'order_id'], axis = 1)\n",
    "\n",
    "    #scale test data\n",
    "    if scaler != None:\n",
    "        data = scaler.transform(data)\n",
    "\n",
    "    #if model is xgb use model.predict(), else use model.predict_proba()\n",
    "    if model_type == 'xgb':\n",
    "      dtest = xgb.DMatrix(data)\n",
    "      ypred = model.predict(dtest)\n",
    "    \n",
    "    elif model_type == 'mlp':\n",
    "      ypred = model.predict(data)\n",
    "      ypred = ypred.reshape(-1,).tolist()\n",
    "\n",
    "    else:\n",
    "      ypred = model.predict_proba(data)\n",
    "      #get probabilities of class 1\n",
    "      ypred = ypred[:,-1]\n",
    "\n",
    "    #add output probablities to a column\n",
    "    test_data['reordered'] =  ypred\n",
    "\n",
    "    #create a dataframe wiith unique order id\n",
    "    df = pd.DataFrame({'order_id':test_data['order_id'].unique()})\n",
    "\n",
    "    # 3 best threshold values based on multiple runs\n",
    "    for i, thresh in enumerate([0.18,0.19,0.20]):\n",
    "\n",
    "      #get all products above threshold and join them \n",
    "      test_data_copy = test_data[test_data['reordered']>=thresh].groupby(['order_id'])['product_id'].apply(convert_to_string).reset_index(name = \"products\")\n",
    "      \n",
    "      #create a submission by merging the order_id with test_data_copy\n",
    "      submission = pd.merge(test_data_copy,df, on = 'order_id', how = 'right')\n",
    "      submission['order_id'] = submission['order_id'].apply(int)\n",
    "\n",
    "      # replace empty cells with None , where no product is above threshold probability\n",
    "      submission = submission.where(pd.notnull(submission), None)\n",
    "\n",
    "      #save submission file\n",
    "      submission.to_csv(\"submission_sample_v8_{}_{}.csv\".format(i+1,model_type), index= False)\n",
    "      print(\"Generated submission_sample_v8_{}_{}.csv successfully\".format(i+1,model_type))"
   ]
  },
  {
   "cell_type": "markdown",
   "metadata": {
    "id": "BTZw8pI-rLBP"
   },
   "source": [
    "##### Function to return product list which maximizes F1-score ( uses faron's kernel)"
   ]
  },
  {
   "cell_type": "code",
   "execution_count": 135,
   "metadata": {
    "id": "GqBQjgNQrLBP"
   },
   "outputs": [],
   "source": [
    "def getscores_on_testdata(model = None ,scaler = None, model_type = 'xgb', val_file = \"Data_v2.h5\"):\n",
    "    \"\"\"\n",
    "    Returns product list for every order-ID which maximizes F1-score\n",
    "    \n",
    "    Parameters\n",
    "    ----------\n",
    "    model      : The default is None.\n",
    "                 Trained model is passed here  \n",
    "    model_type : The default is xgb\n",
    "                 Identifier to deal with both sgb and catboost models\n",
    "    val_file   : The default is Data_v2.h5\n",
    "                 Path of dataset is passed\n",
    "    Returns\n",
    "    -------\n",
    "    test_products : Dataframe object\n",
    "                  This dataframe contains orderID, productID's(string)\n",
    "\n",
    "    \"\"\"\n",
    "\n",
    "    #loading test data\n",
    "    test_data = pd.HDFStore(val_file)\n",
    "    test_data = test_data['test']\n",
    "    data = test_data.drop(['user_id', 'product_id', 'order_id'], axis = 1)\n",
    "\n",
    "    #scale test data\n",
    "    if scaler != None:\n",
    "        data = scaler.transform(data)\n",
    "\n",
    "    #if model is xgb use model.predict(), else use model.predict_proba()\n",
    "    if model_type == 'xgb':\n",
    "      dtest = xgb.DMatrix(data)\n",
    "      ypred = model.predict(dtest)\n",
    "    \n",
    "    elif model_type == 'mlp':\n",
    "      ypred = model.predict(data)\n",
    "      ypred = ypred.reshape(-1,).tolist()\n",
    "    \n",
    "    else:\n",
    "      ypred = model.predict_proba(data)\n",
    "      #get probabilities of class 1\n",
    "      ypred = ypred[:,-1]\n",
    "\n",
    "    #add output probablities to a column\n",
    "    test_data['reordered'] =  ypred\n",
    "    \n",
    "    #create a dataframe with orderID and list of all possible productID's\n",
    "    test_products = test_data.groupby(['order_id'])['product_id'].apply(list).reset_index()\n",
    "    \n",
    "    #collect all probs in a single list for each OrderID\n",
    "    probs = test_data.groupby(['order_id'])['reordered'].apply(list).reset_index()\n",
    "    test_products['probs'] = probs['reordered']\n",
    "\n",
    "    #run faron's optimization code to get most probable set of products which might be reordered\n",
    "    products = []\n",
    "    for i in tqdm(test_products.index):\n",
    "        prods = get_best_prediction(test_products.iloc[i]['product_id'], test_products.iloc[i]['probs'], None)\n",
    "        products.append(prods)\n",
    "\n",
    "    test_products['products']= products\n",
    "    \n",
    "    test_products['order_id'] = test_products['order_id'].apply(int)\n",
    "    test_products.drop(['product_id','probs'], axis = 1, inplace = True)\n",
    "   \n",
    "    return test_products\n",
    "    "
   ]
  },
  {
   "cell_type": "markdown",
   "metadata": {
    "id": "WmVZBj--hL7l"
   },
   "source": [
    "## Models"
   ]
  },
  {
   "cell_type": "markdown",
   "metadata": {
    "id": "GoDzEiFRuDmd"
   },
   "source": [
    "### Logistic Regression"
   ]
  },
  {
   "cell_type": "code",
   "execution_count": 136,
   "metadata": {
    "colab": {
     "base_uri": "https://localhost:8080/",
     "height": 390
    },
    "id": "2gdwOqcmrfaW",
    "outputId": "54772593-a3ac-4472-fe71-32a12b11fc03"
   },
   "outputs": [
    {
     "data": {
      "image/png": "[encoded data removed]",
      "text/plain": [
       "<Figure size 864x432 with 1 Axes>"
      ]
     },
     "metadata": {
      "needs_background": "light"
     },
     "output_type": "display_data"
    }
   ],
   "source": [
    "#data split randomly\n",
    "\n",
    "(X_train, y_train),(X_val, y_val) = random_split(test_size = 0.1)"
   ]
  },
  {
   "cell_type": "code",
   "execution_count": 137,
   "metadata": {
    "id": "6MV8Re2GuDDG"
   },
   "outputs": [],
   "source": [
    "# fit scaler on training data\n",
    "scaler = StandardScaler().fit(X_train)\n",
    "\n",
    "# transforming the data\n",
    "X_train_norm = scaler.transform(X_train)\n",
    "X_val_norm = scaler.transform(X_val)"
   ]
  },
  {
   "cell_type": "code",
   "execution_count": 14,
   "metadata": {
    "colab": {
     "base_uri": "https://localhost:8080/",
     "height": 350
    },
    "id": "rvmbBYQcuDAy",
    "outputId": "84415896-f901-4d28-85ec-b1f664958a63"
   },
   "outputs": [
    {
     "name": "stdout",
     "output_type": "stream",
     "text": [
      "logloss on validation data : 0.2550918280106341\n"
     ]
    },
    {
     "data": {
      "image/png": "[encoded data removed]",
      "text/plain": [
       "<Figure size 432x288 with 2 Axes>"
      ]
     },
     "metadata": {
      "needs_background": "light"
     },
     "output_type": "display_data"
    },
    {
     "name": "stdout",
     "output_type": "stream",
     "text": [
      "Accuracy : 0.9059975196674325\n",
      "Precision : 0.6415127528583993\n",
      "Wall time: 3min 4s\n"
     ]
    }
   ],
   "source": [
    "%%time\n",
    "\n",
    "log_reg = LogisticRegression(random_state=0, n_jobs = -1)\n",
    "log_reg.fit(X_train_norm,y_train)\n",
    "\n",
    "predict_y = log_reg.predict_proba(X_val_norm)\n",
    "print(\"logloss on validation data :\",log_loss(y_val, predict_y, labels=[0,1], eps=1e-15))\n",
    "model_stats(np.argmax(predict_y,1),y_val)"
   ]
  },
  {
   "cell_type": "markdown",
   "metadata": {
    "id": "nZOsn_MobajM"
   },
   "source": [
    "### Decision Tree"
   ]
  },
  {
   "cell_type": "code",
   "execution_count": 15,
   "metadata": {
    "colab": {
     "base_uri": "https://localhost:8080/"
    },
    "id": "UIcRgToPbaSL",
    "outputId": "bb9d0c1a-0a73-41cc-902f-33d3c165c918"
   },
   "outputs": [
    {
     "name": "stdout",
     "output_type": "stream",
     "text": [
      "Fitting 5 folds for each of 10 candidates, totalling 50 fits\n",
      "Wall time: 1h 9min 14s\n"
     ]
    },
    {
     "data": {
      "text/plain": [
       "RandomizedSearchCV(cv=5, estimator=DecisionTreeClassifier(), n_jobs=-1,\n",
       "                   param_distributions={'max_depth': [5, 10, 15, 20],\n",
       "                                        'min_samples_split': [2, 3, 4, 5]},\n",
       "                   verbose=True)"
      ]
     },
     "execution_count": 15,
     "metadata": {},
     "output_type": "execute_result"
    }
   ],
   "source": [
    "%%time\n",
    "param_grid = {}\n",
    "param_grid['max_depth'] = [5,10,15,20]\n",
    "param_grid['min_samples_split'] = [2,3,4,5]\n",
    "\n",
    "dt_clf = DecisionTreeClassifier()\n",
    "r_search = RandomizedSearchCV(dt_clf, param_distributions=param_grid, cv = 5, verbose = True, n_jobs = -1)\n",
    "r_search.fit(X_train, y_train)"
   ]
  },
  {
   "cell_type": "code",
   "execution_count": 16,
   "metadata": {
    "colab": {
     "base_uri": "https://localhost:8080/"
    },
    "id": "QIrXtOPbcvwC",
    "outputId": "68481ead-128c-4648-aebb-88b6299b6f83"
   },
   "outputs": [
    {
     "data": {
      "text/plain": [
       "{'min_samples_split': 2, 'max_depth': 10}"
      ]
     },
     "execution_count": 16,
     "metadata": {},
     "output_type": "execute_result"
    }
   ],
   "source": [
    "r_search.best_params_"
   ]
  },
  {
   "cell_type": "code",
   "execution_count": 17,
   "metadata": {
    "colab": {
     "base_uri": "https://localhost:8080/",
     "height": 316
    },
    "id": "HQHapWXMbaPc",
    "outputId": "5ccb4432-c8fa-4f1a-b936-f1045ae7bd56"
   },
   "outputs": [
    {
     "name": "stdout",
     "output_type": "stream",
     "text": [
      "logloss on validation data : 0.250868235017748\n"
     ]
    },
    {
     "data": {
      "image/png": "[encoded data removed]",
      "text/plain": [
       "<Figure size 432x288 with 2 Axes>"
      ]
     },
     "metadata": {
      "needs_background": "light"
     },
     "output_type": "display_data"
    },
    {
     "name": "stdout",
     "output_type": "stream",
     "text": [
      "Accuracy : 0.9077521602611075\n",
      "Precision : 0.6118480483050445\n"
     ]
    }
   ],
   "source": [
    "predict_y = r_search.predict_proba(X_val)\n",
    "print(\"logloss on validation data :\",log_loss(y_val, predict_y, labels=[0,1], eps=1e-15))\n",
    "model_stats(np.argmax(predict_y,1),y_val)"
   ]
  },
  {
   "cell_type": "markdown",
   "metadata": {
    "id": "cS0TjjNnbkSY"
   },
   "source": [
    "### Random Forest"
   ]
  },
  {
   "cell_type": "markdown",
   "metadata": {
    "id": "TmM8t0gHcT3h"
   },
   "source": [
    "##### When to calibrate your model ?\n",
    "ref: https://machinelearningmastery.com/calibrated-classification-model-in-scikit-learn/"
   ]
  },
  {
   "cell_type": "code",
   "execution_count": 18,
   "metadata": {
    "colab": {
     "base_uri": "https://localhost:8080/",
     "height": 350
    },
    "id": "Tk-TR2I6_u_m",
    "outputId": "84da7898-aa5b-4c32-ed11-ca0fe50828c9"
   },
   "outputs": [
    {
     "name": "stdout",
     "output_type": "stream",
     "text": [
      "logloss on validation data : 0.2518767530530419\n"
     ]
    },
    {
     "data": {
      "image/png": "[encoded data removed]",
      "text/plain": [
       "<Figure size 432x288 with 2 Axes>"
      ]
     },
     "metadata": {
      "needs_background": "light"
     },
     "output_type": "display_data"
    },
    {
     "name": "stdout",
     "output_type": "stream",
     "text": [
      "Accuracy : 0.9103976910015376\n",
      "Precision : 0.6540423078628764\n",
      "Wall time: 1h 1min 42s\n"
     ]
    }
   ],
   "source": [
    "%%time\n",
    "\n",
    "from sklearn.ensemble import RandomForestClassifier\n",
    "\n",
    "clf=RandomForestClassifier(n_estimators=25,random_state=42,n_jobs=-1)\n",
    "clf.fit(X_train, y_train)\n",
    "sig_clf = CalibratedClassifierCV(clf, method=\"sigmoid\")\n",
    "sig_clf.fit(X_train, y_train)\n",
    "\n",
    "predict_y = sig_clf.predict_proba(X_val)\n",
    "print(\"logloss on validation data :\",log_loss(y_val, predict_y, labels=[0,1], eps=1e-15))\n",
    "model_stats(np.argmax(predict_y,1),y_val)"
   ]
  },
  {
   "cell_type": "code",
   "execution_count": null,
   "metadata": {
    "id": "xCst2kKVZMGF"
   },
   "outputs": [],
   "source": []
  },
  {
   "cell_type": "markdown",
   "metadata": {
    "id": "mjZE1yA9FbkU"
   },
   "source": [
    "### Multi Layer Perceptron Model"
   ]
  },
  {
   "cell_type": "code",
   "execution_count": 106,
   "metadata": {
    "id": "nlxuFRoj6c3J"
   },
   "outputs": [],
   "source": [
    "## import tensorflow packages\n",
    "import tensorflow as tf\n",
    "from tensorflow.keras.models import Model\n",
    "from tensorflow.keras.optimizers import Adam\n",
    "from tensorflow.keras.layers import Dense,Input,Activation,Dropout\n",
    "from tensorflow.keras.callbacks import LearningRateScheduler, EarlyStopping, ModelCheckpoint\n",
    "\n",
    "#SEED\n",
    "SEED_VALUE = 0\n",
    "np.random.seed(SEED_VALUE)\n",
    "tf.random.set_seed(SEED_VALUE)"
   ]
  },
  {
   "cell_type": "code",
   "execution_count": 22,
   "metadata": {
    "id": "bnL1mHKy6c0d"
   },
   "outputs": [],
   "source": [
    "def mlp_model():\n",
    "    \"\"\"\n",
    "    Create mlp model with 4 hidden layers .\n",
    "    \"\"\"\n",
    "    inp = Input(shape =  (28,)) #no of features\n",
    "    mlp = Dense(256, activation = \"relu\", kernel_initializer=tf.keras.initializers.he_normal(seed=SEED_VALUE), name = 'fc_1')(inp)\n",
    "    mlp = Dropout(0.3)(mlp)\n",
    "    mlp = Dense(128, activation = 'relu', kernel_initializer=tf.keras.initializers.he_normal(seed=SEED_VALUE), name = 'fc_2')(mlp)\n",
    "    mlp = Dropout(0.3)(mlp)\n",
    "    mlp = Dense(64, activation = 'relu', kernel_initializer=tf.keras.initializers.he_normal(seed=SEED_VALUE), name = 'fc_3')(mlp)\n",
    "    mlp = Dropout(0.3)(mlp)\n",
    "    mlp = Dense(32, activation = 'relu', kernel_initializer=tf.keras.initializers.he_normal(seed=SEED_VALUE), name = 'fc_4')(mlp)\n",
    "    mlp = Dropout(0.3)(mlp)\n",
    "    mlp = Dense(1, activation = 'sigmoid', kernel_initializer=tf.keras.initializers.he_normal(seed=SEED_VALUE), name = 'fc_5')(mlp)\n",
    "\n",
    "    model = Model(inputs = inp, outputs = mlp)\n",
    "    \n",
    "    opt = Adam(lr= 0.001)\n",
    "    model.compile(loss=\"binary_crossentropy\", optimizer=opt, metrics=[\"accuracy\"])\n",
    "    \n",
    "    return model"
   ]
  },
  {
   "cell_type": "code",
   "execution_count": 23,
   "metadata": {
    "id": "xb22a9Eb6cxb"
   },
   "outputs": [],
   "source": [
    "import os\n",
    "\n",
    "#save model checkpoint\n",
    "filepath=\"checkpoint.hdf5\"\n",
    "\n",
    "checkpoint = ModelCheckpoint(filepath=filepath, monitor='val_accuracy',  verbose=1, save_best_only=True, mode='auto')\n",
    "earlystop = EarlyStopping(monitor='val_accuracy', min_delta=0.001, patience=2, verbose=1)"
   ]
  },
  {
   "cell_type": "code",
   "execution_count": 24,
   "metadata": {
    "colab": {
     "base_uri": "https://localhost:8080/"
    },
    "id": "dzrreidU6cvD",
    "outputId": "5409b283-46e1-4c8a-d3cb-b5fb77ce4f46"
   },
   "outputs": [
    {
     "name": "stdout",
     "output_type": "stream",
     "text": [
      "Model: \"model\"\n",
      "_________________________________________________________________\n",
      " Layer (type)                Output Shape              Param #   \n",
      "=================================================================\n",
      " input_1 (InputLayer)        [(None, 28)]              0         \n",
      "                                                                 \n",
      " fc_1 (Dense)                (None, 256)               7424      \n",
      "                                                                 \n",
      " dropout (Dropout)           (None, 256)               0         \n",
      "                                                                 \n",
      " fc_2 (Dense)                (None, 128)               32896     \n",
      "                                                                 \n",
      " dropout_1 (Dropout)         (None, 128)               0         \n",
      "                                                                 \n",
      " fc_3 (Dense)                (None, 64)                8256      \n",
      "                                                                 \n",
      " dropout_2 (Dropout)         (None, 64)                0         \n",
      "                                                                 \n",
      " fc_4 (Dense)                (None, 32)                2080      \n",
      "                                                                 \n",
      " dropout_3 (Dropout)         (None, 32)                0         \n",
      "                                                                 \n",
      " fc_5 (Dense)                (None, 1)                 33        \n",
      "                                                                 \n",
      "=================================================================\n",
      "Total params: 50,689\n",
      "Trainable params: 50,689\n",
      "Non-trainable params: 0\n",
      "_________________________________________________________________\n",
      "None\n"
     ]
    },
    {
     "name": "stderr",
     "output_type": "stream",
     "text": [
      "C:\\Users\\kati-silas\\Anaconda3\\lib\\site-packages\\keras\\optimizer_v2\\adam.py:105: UserWarning: The `lr` argument is deprecated, use `learning_rate` instead.\n",
      "  super(Adam, self).__init__(name, **kwargs)\n"
     ]
    }
   ],
   "source": [
    "tf.keras.backend.clear_session()\n",
    "\n",
    "model = mlp_model()\n",
    "print(model.summary())"
   ]
  },
  {
   "cell_type": "code",
   "execution_count": 30,
   "metadata": {
    "colab": {
     "base_uri": "https://localhost:8080/"
    },
    "id": "C-yVdgFo9IJE",
    "outputId": "07400c9f-730a-428f-f194-3cd42c86c95d"
   },
   "outputs": [
    {
     "name": "stdout",
     "output_type": "stream",
     "text": [
      "Epoch 1/10\n",
      "238343/238350 [============================>.] - ETA: 0s - loss: 0.2617 - accuracy: 0.9045\n",
      "Epoch 00001: val_accuracy improved from 0.90684 to 0.90757, saving model to checkpoint.hdf5\n",
      "238350/238350 [==============================] - 706s 3ms/step - loss: 0.2617 - accuracy: 0.9045 - val_loss: 0.2536 - val_accuracy: 0.9076\n",
      "Epoch 2/10\n",
      "238346/238350 [============================>.] - ETA: 0s - loss: 0.2632 - accuracy: 0.9042\n",
      "Epoch 00002: val_accuracy did not improve from 0.90757\n",
      "238350/238350 [==============================] - 686s 3ms/step - loss: 0.2632 - accuracy: 0.9042 - val_loss: 0.2573 - val_accuracy: 0.9057\n",
      "Epoch 3/10\n",
      "238347/238350 [============================>.] - ETA: 0s - loss: 0.2642 - accuracy: 0.9041\n",
      "Epoch 00003: val_accuracy did not improve from 0.90757\n",
      "238350/238350 [==============================] - 661s 3ms/step - loss: 0.2642 - accuracy: 0.9041 - val_loss: 0.2513 - val_accuracy: 0.9070\n",
      "Epoch 00003: early stopping\n"
     ]
    }
   ],
   "source": [
    "#train model\n",
    "batch_size = 128\n",
    "history = model.fit(X_train_norm,np.array(y_train).reshape(-1,1), epochs = 10, validation_data = (X_val_norm,np.array(y_val).reshape(-1,1)), callbacks=[checkpoint, earlystop])"
   ]
  },
  {
   "cell_type": "code",
   "execution_count": 31,
   "metadata": {
    "colab": {
     "base_uri": "https://localhost:8080/"
    },
    "id": "tKSmkB_Z9IGN",
    "outputId": "0b92ea78-d9eb-4dea-8600-035b60acf210"
   },
   "outputs": [
    {
     "name": "stdout",
     "output_type": "stream",
     "text": [
      "Training Accuracy :90.76 %\n",
      "Validation Accuracy :90.76 %\n"
     ]
    }
   ],
   "source": [
    "#load the saved model and print accuracy\n",
    "\n",
    "saved_model = tf.keras.models.load_model('checkpoint.hdf5')\n",
    "print(\"Training Accuracy :{:.2f} %\".format(saved_model.evaluate(X_train_norm,np.array(y_train).reshape(-1,1), verbose = 0)[1]*100))\n",
    "print(\"Validation Accuracy :{:.2f} %\".format(saved_model.evaluate(X_val_norm,np.array(y_val).reshape(-1,1), verbose = 0)[1]*100))"
   ]
  },
  {
   "cell_type": "code",
   "execution_count": 32,
   "metadata": {
    "colab": {
     "base_uri": "https://localhost:8080/",
     "height": 316
    },
    "id": "eXlznw57CE6L",
    "outputId": "ef4dad8c-be62-4f1e-e823-ca20b9f49dca"
   },
   "outputs": [
    {
     "name": "stdout",
     "output_type": "stream",
     "text": [
      "logloss on validation data : 0.2535987016498708\n"
     ]
    },
    {
     "data": {
      "image/png": "[encoded data removed]",
      "text/plain": [
       "<Figure size 432x288 with 2 Axes>"
      ]
     },
     "metadata": {
      "needs_background": "light"
     },
     "output_type": "display_data"
    },
    {
     "name": "stdout",
     "output_type": "stream",
     "text": [
      "Accuracy : 0.9022003216644424\n",
      "Precision : 0.0\n"
     ]
    },
    {
     "name": "stderr",
     "output_type": "stream",
     "text": [
      "C:\\Users\\kati-silas\\Anaconda3\\lib\\site-packages\\sklearn\\metrics\\_classification.py:1248: UndefinedMetricWarning: Precision is ill-defined and being set to 0.0 due to no predicted samples. Use `zero_division` parameter to control this behavior.\n",
      "  _warn_prf(average, modifier, msg_start, len(result))\n"
     ]
    }
   ],
   "source": [
    "#print model statistics\n",
    "\n",
    "predict_y = saved_model.predict(X_val_norm)\n",
    "print(\"logloss on validation data :\",log_loss(y_val, predict_y.reshape(-1,).tolist(), labels=[0,1], eps=1e-15))\n",
    "# model_stats(predict_y,y_val)\n",
    "model_stats(np.argmax(predict_y,1),y_val)"
   ]
  },
  {
   "cell_type": "markdown",
   "metadata": {
    "id": "xYwXL5dstpx1"
   },
   "source": [
    "### Performance"
   ]
  },
  {
   "cell_type": "markdown",
   "metadata": {
    "id": "3H2P6fWHeOZ4"
   },
   "source": [
    "We will compare all models for their mean f1-score on test set , on both global threshold and local threshold"
   ]
  },
  {
   "cell_type": "code",
   "execution_count": 37,
   "metadata": {
    "colab": {
     "base_uri": "https://localhost:8080/"
    },
    "id": "2Cl1XbD-yiTo",
    "outputId": "57e887e3-8ffc-4890-b827-aacba244f90f"
   },
   "outputs": [
    {
     "name": "stdout",
     "output_type": "stream",
     "text": [
      "+--------------------------+---------+-----------------------------+---------------+--------------+\n",
      "|          Model           | logloss |          Threshold          | Private Score | Public Score |\n",
      "+--------------------------+---------+-----------------------------+---------------+--------------+\n",
      "|   Logistic Regression    |  0.2550 |   Global_Threshold : 0.18   |    0.35316    |   0.35485    |\n",
      "|   Logistic Regression    |  0.2550 | Local_Threshold : faron_opt |    0.37405    |   0.37687    |\n",
      "| Decision Tree Classifier |  0.2509 |   Global_Threshold : 0.20   |    0.28438    |   0.28660    |\n",
      "| Decision Tree Classifier |  0.2509 | Local_Threshold : faron_opt |    0.29532    |   0.29822    |\n",
      "| Random Forest Classifier |  0.2518 |   Global_Threshold : 0.18   |    0.35359    |   0.35456    |\n",
      "| Random Forest Classifier |  0.2518 | Local_Threshold : faron_opt |    0.37825    |   0.38067    |\n",
      "|        MLP model         |  0.2434 |   Global_Threshold : 0.18   |    0.35598    |   0.35630    |\n",
      "|        MLP model         |  0.2434 | Local_Threshold : faron_opt |    0.38327    |   0.38449    |\n",
      "+--------------------------+---------+-----------------------------+---------------+--------------+\n"
     ]
    }
   ],
   "source": [
    "from prettytable import PrettyTable\n",
    "# http://zetcode.com/python/prettytable/\n",
    "\n",
    "x = PrettyTable()\n",
    "x.field_names = [\"Model\", \"logloss\", \"Threshold \" , \"Private Score\" ,\"Public Score\"]\n",
    "x.add_row(['Logistic Regression','0.2550','Global_Threshold : 0.18','0.35316','0.35485'])\n",
    "x.add_row(['Logistic Regression','0.2550','Local_Threshold : faron_opt','0.37405','0.37687'])\n",
    "x.add_row(['Decision Tree Classifier','0.2509','Global_Threshold : 0.20','0.28438', '0.28660'])\n",
    "x.add_row(['Decision Tree Classifier','0.2509','Local_Threshold : faron_opt','0.29532', '0.29822'])\n",
    "x.add_row(['Random Forest Classifier','0.2518','Global_Threshold : 0.18','0.35359','0.35456'])\n",
    "x.add_row(['Random Forest Classifier','0.2518','Local_Threshold : faron_opt','0.37825','0.38067'])\n",
    "x.add_row(['MLP model','0.2434','Global_Threshold : 0.18','0.35598','0.35630'])\n",
    "x.add_row(['MLP model','0.2434','Local_Threshold : faron_opt','0.38327','0.38449'])\n",
    "\n",
    "print(x)"
   ]
  },
  {
   "cell_type": "markdown",
   "metadata": {
    "id": "pmQNUyxGluW9"
   },
   "source": [
    "For Local threshold :\n",
    "\n",
    "Catboost > XGB > MLP > Random forest > Logistic Regression > Decision Tree\n",
    "\n",
    "For Global threshold:\n",
    "\n",
    "Catboost > XGB > MLP > Random forest > Logistic Regression > Decision Tree"
   ]
  },
  {
   "cell_type": "code",
   "execution_count": null,
   "metadata": {
    "id": "iWdbCQ85gHOL"
   },
   "outputs": [],
   "source": []
  },
  {
   "cell_type": "markdown",
   "metadata": {},
   "source": [
    "### Change .csv to .pkl"
   ]
  },
  {
   "cell_type": "code",
   "execution_count": 46,
   "metadata": {},
   "outputs": [],
   "source": [
    "def file_convert(filename):\n",
    "    file = pd.read_csv(os.getcwd() + '\\\\' + filename + '.csv')\n",
    "    file.to_pickle(filename + '.pkl')"
   ]
  },
  {
   "cell_type": "code",
   "execution_count": 47,
   "metadata": {},
   "outputs": [],
   "source": [
    "file_convert(\"hour_reorder_rate\")\n",
    "file_convert(\"day_reorder_rate\")\n",
    "file_convert(\"p_days_since_prior_order_reorder_rate\")\n",
    "file_convert(\"u_days_since_prior_order_reorder_rate\")\n",
    "file_convert(\"days_since_prior_reorder_rate\")"
   ]
  },
  {
   "cell_type": "markdown",
   "metadata": {},
   "source": [
    "### Final function to return product recommendation"
   ]
  },
  {
   "cell_type": "code",
   "execution_count": 127,
   "metadata": {},
   "outputs": [],
   "source": [
    "def get_recommendations(X = None):\n",
    "\n",
    "\n",
    "    start_time = datetime.now()\n",
    "\n",
    "    # datetime object containing current date and time\n",
    "    now = datetime.now()\n",
    "\n",
    "    # dd/mm/YY H:M:S\n",
    "    dt_string = now.strftime(\"%d/%m/%Y %H:%M:%S\")\n",
    "    today = int(dt_string.split(\"/\")[0])\n",
    "\n",
    "    #get data from user end\n",
    "    user_id = int(X['user_id']) #user_id\n",
    "    order_hour_of_day = int(dt_string.split(\" \")[1].split(\":\")[0]) #current date\n",
    "    order_dow = datetime.today().weekday() #current day of week\n",
    "\n",
    "\n",
    "\n",
    "\n",
    "    ulp = pd.read_pickle(\"user_last_purchase.pkl\")\n",
    "    if user_id not in ulp['user_id'].values:\n",
    "\n",
    "        #get top 5 products based on hour of day and day of week\n",
    "        top= pd.read_pickle('top10_products.pkl')\n",
    "        top_products = top[(top['order_dow']==order_dow) & (top['order_hour_of_day']==order_hour_of_day)]['product_name'].values.tolist()\n",
    "        top_products = {i: value for i,value in enumerate(top_products)}\n",
    "        #paths = get_image_paths(top5_products)\n",
    "        predictions={}\n",
    "        predictions['top'] =  top_products\n",
    "\n",
    "        del ulp, top,now, today, dt_string, order_dow, order_hour_of_day\n",
    "\n",
    "        end_time = datetime.now()\n",
    "        difference = end_time - start_time\n",
    "        #print(\"Total Time : {} seconds\".format(difference))\n",
    "        time = \"{}\".format(difference)\n",
    "\n",
    "        return predictions,time\n",
    "\n",
    "    user_last_order_date = ulp[ulp['user_id']==user_id]['date'].values.tolist()[0]\n",
    "\n",
    "    days_since_prior_order = today - int(user_last_order_date.split('-')[-1])\n",
    "    \n",
    "    del ulp, now, today, dt_string, user_last_order_date\n",
    "    #featurization\n",
    "\n",
    "    hour_rate = pd.read_pickle(\"hour_reorder_rate.pkl\")\n",
    "    day_rate = pd.read_pickle(\"day_reorder_rate.pkl\")\n",
    "    p_days_rate = pd.read_pickle(\"p_days_since_prior_order_reorder_rate.pkl\")\n",
    "    u_days_rate = pd.read_pickle(\"u_days_since_prior_order_reorder_rate.pkl\")\n",
    "    up_days_rate = pd.read_pickle(\"days_since_prior_reorder_rate.pkl\")\n",
    "\n",
    "    merged_up_features = pd.read_pickle(\"train_orders_merged_df_v6.pkl\")\n",
    "\n",
    "    featurized_data = merged_up_features[merged_up_features['user_id']==user_id]\n",
    "\n",
    "    hour_r = hour_rate[hour_rate['order_hour_of_day']==order_hour_of_day]\n",
    "    day_r = day_rate[day_rate['order_dow'] == order_dow]\n",
    "    p_days = p_days_rate[p_days_rate['days_since_prior_order']==days_since_prior_order]\n",
    "    u_days = u_days_rate[(u_days_rate['user_id']==user_id) & (u_days_rate['days_since_prior_order']==days_since_prior_order)]\n",
    "    \n",
    "    \n",
    "    if p_days.empty:\n",
    "        #handle\n",
    "        p_days = pd.DataFrame(columns = p_days.columns)\n",
    "        products_x = pd.read_pickle('product_mappings.pkl')\n",
    "        p_days['product_id'] = products_x['product_id']\n",
    "        p_days['days_since_prior_order'] = days_since_prior_order\n",
    "        p_days['p_days_since_prior_order_reorder_rate']=0.0\n",
    "    \n",
    "    if u_days.empty:\n",
    "        #handle\n",
    "        u_days = pd.DataFrame(columns = u_days.columns)\n",
    "        df2 = {'user_id': user_id, 'days_since_prior_order': days_since_prior_order,\n",
    "               'u_days_since_prior_order_reorder_rate': 0.0}\n",
    "        u_days = u_days.append(df2, ignore_index = True)\n",
    "        del df2\n",
    "        \n",
    "\n",
    "    up_days = up_days_rate[(up_days_rate['user_id']==user_id) & \n",
    "                           (up_days_rate['days_since_prior_order']==days_since_prior_order)]\n",
    "\n",
    "    if up_days.empty:\n",
    "        #handle\n",
    "        up_days = pd.DataFrame(columns = up_days_rate.columns)\n",
    "        products_x = pd.read_pickle('product_mappings.pkl')\n",
    "        up_days['product_id'] = products_x['product_id']\n",
    "        up_days['user_id'] = user_id\n",
    "        up_days['days_since_prior_order'] = days_since_prior_order\n",
    "        up_days['days_since_prior_reorder_rate']=0\n",
    "        del products_x\n",
    "\n",
    "\n",
    "    #print(\"UP_DAYS_RATE: \", up_days_rate[up_days_rate['user_id']==user_id])\n",
    "    #print(u_days_rate[u_days_rate['user_id']==user_id])\n",
    "    #print(day_rate)\n",
    "    del merged_up_features, hour_rate, day_rate, p_days_rate, u_days_rate, up_days_rate\n",
    "\n",
    "    featurized_data = pd.merge(featurized_data, up_days, how='left', on = ['user_id', 'product_id'], suffixes=(None, '_y'))\n",
    "\n",
    "    featurized_data = pd.merge(featurized_data, hour_r, how='left', on = 'product_id', suffixes=(None, '_y'))\n",
    "    featurized_data = pd.merge(featurized_data, day_r, how='left', on = 'product_id', suffixes=(None, '_y'))\n",
    "    featurized_data = pd.merge(featurized_data, p_days, how='left', on = ['product_id','days_since_prior_order'], suffixes=(None, '_y'))\n",
    "    featurized_data = pd.merge(featurized_data, u_days, how='left', on = ['user_id','days_since_prior_order'], suffixes=(None, '_y'))\n",
    "    featurized_data = featurized_data[['user_id', 'product_id', 'u_p_order_rate', 'u_p_reorder_rate',\n",
    "                                       'u_p_avg_position', 'u_p_orders_since_last', 'max_streak', 'user_reorder_rate',\n",
    "                                       'user_unique_products', 'user_total_products', 'user_avg_cart_size',\n",
    "                                       'user_avg_days_between_orders', 'user_reordered_products_ratio',\n",
    "                                       'product_reorder_rate', 'avg_pos_incart', 'p_reduced_feat_1', 'p_reduced_feat_2',\n",
    "                                       'p_reduced_feat_3', 'aisle_id', 'department_id', 'aisle_reorder_rate',\n",
    "                                       'dept_reorder_rate', 'order_dow', 'order_hour_of_day', 'days_since_prior_order',\n",
    "                                       'hour_reorder_rate', 'day_reorder_rate', 'p_days_since_prior_order_reorder_rate',\n",
    "                                       'u_days_since_prior_order_reorder_rate', 'days_since_prior_reorder_rate']]\n",
    "\n",
    "    del up_days,u_days,p_days,day_r,hour_r\n",
    "\n",
    "    #model\n",
    "    model = tf.keras.models.load_model('checkpoint.hdf5')\n",
    "    \n",
    "    data = featurized_data.drop(['user_id', 'product_id'], axis = 1)\n",
    "    \n",
    "    # fit scaler on training data\n",
    "    scaler = StandardScaler().fit(data)\n",
    "\n",
    "    # transforming the data\n",
    "    data_norm = scaler.transform(data)\n",
    "    \n",
    "    ypred = model.predict(data_norm)\n",
    "    ypred = ypred[:,-1] #get probabilities of class 1\n",
    "    del data,model\n",
    "\n",
    "    #run faron's optimization code to get most probable set of products which might be reordered\n",
    "    \n",
    "    #set showThreshold = True , while debugging to print the threshold\n",
    "    recommended_products = get_best_prediction(featurized_data['product_id'].tolist(), ypred.tolist(), None, showThreshold = True)\n",
    "    recommended_products = recommended_products.replace(\"None\", \"\")\n",
    "    recommended_products = list(map(int, recommended_products.split()))\n",
    "    products_x = pd.read_pickle('product_mappings.pkl')\n",
    "    recommended_products = products_x.loc[products_x['product_id'].isin(recommended_products)]['product_name'].values.tolist()\n",
    "    recommended_products = {i: value for i,value in enumerate(recommended_products)}\n",
    "\n",
    "    predictions= {}\n",
    "    predictions['recommend'] = recommended_products\n",
    "\n",
    "    end_time = datetime.now()\n",
    "    difference = end_time - start_time\n",
    "    #print(\"Total Time : {} seconds\".format(difference))\n",
    "    time = \"{}\".format(difference)\n",
    "\n",
    "    del featurized_data, products_x\n",
    "    return predictions, time"
   ]
  },
  {
   "cell_type": "code",
   "execution_count": 128,
   "metadata": {},
   "outputs": [
    {
     "name": "stdout",
     "output_type": "stream",
     "text": [
      "Threshold : P(X) > 0.3882\n",
      "Maximum F1 : 0.6466\n",
      "\n",
      "====================\n",
      "Recommended products\n",
      "====================\n",
      "Organic Red Onion\n",
      "Red Raspberries\n",
      "Snow Peas\n",
      "Organic Soba\n",
      "Plain Whole Milk Yogurt\n",
      "Organic Blackberries\n",
      "Organic Grape Tomatoes\n",
      "Whole Vitamin D Milk\n"
     ]
    }
   ],
   "source": [
    "#existing user\n",
    "\n",
    "X = {}\n",
    "X['user_id'] = 5\n",
    "recommended_products = get_recommendations(X)\n",
    "\n",
    "print()\n",
    "print(\"=\"*20)\n",
    "print(\"Recommended products\")\n",
    "print(\"=\"*20)\n",
    "for _,value in recommended_products[0]['recommend'].items():\n",
    "    print(value)"
   ]
  },
  {
   "cell_type": "code",
   "execution_count": 129,
   "metadata": {},
   "outputs": [
    {
     "name": "stdout",
     "output_type": "stream",
     "text": [
      "Threshold : P(X) > 0.4986\n",
      "Maximum F1 : 0.7662\n",
      "\n",
      "====================\n",
      "Recommended products\n",
      "====================\n",
      "Imported Mineral Water\n",
      "Organic Bunny Fruit Snacks Berry Patch\n",
      "Chocolate Peppermint Stick Bar\n",
      "Organic Sticks Low Moisture Part Skim Mozzarella String Cheese\n",
      "Organic Summer Strawberry Bunny Fruit Snacks\n",
      "Goldfish Cheddar Baked Snack Crackers\n",
      "Organics Chocolate Milk with DHA\n",
      "Original Whipped Cream Cheese\n",
      "Organic Uncured Sliced Black Forest Ham\n",
      "Pirate's Booty Aged White Cheddar Baked Rice and Corn Puffs\n",
      "Plain Mini Bagels\n",
      "Grape White/Green Seedless\n"
     ]
    }
   ],
   "source": [
    "#existing user\n",
    "\n",
    "X = {}\n",
    "X['user_id'] = 55\n",
    "recommended_products = get_recommendations(X)\n",
    "\n",
    "print()\n",
    "print(\"=\"*20)\n",
    "print(\"Recommended products\")\n",
    "print(\"=\"*20)\n",
    "for _,value in recommended_products[0]['recommend'].items():\n",
    "    print(value)"
   ]
  },
  {
   "cell_type": "code",
   "execution_count": 33,
   "metadata": {},
   "outputs": [
    {
     "name": "stdout",
     "output_type": "stream",
     "text": [
      "\n",
      "====================\n",
      "Recommended products\n",
      "====================\n",
      "Banana\n",
      "Bag of Organic Bananas\n",
      "Organic Baby Spinach\n",
      "Organic Strawberries\n",
      "Organic Hass Avocado\n",
      "Organic Avocado\n",
      "Large Lemon\n",
      "Limes\n",
      "Organic Yellow Onion\n",
      "Organic Garlic\n"
     ]
    }
   ],
   "source": [
    "#new user\n",
    "\n",
    "X = {}\n",
    "X['user_id'] = 225000\n",
    "recommended_products = get_recommendations(X)\n",
    "\n",
    "print()\n",
    "print(\"=\"*20)\n",
    "print(\"Recommended products\")\n",
    "print(\"=\"*20)\n",
    "for _,value in recommended_products[0]['top'].items():\n",
    "    print(value)"
   ]
  },
  {
   "cell_type": "code",
   "execution_count": null,
   "metadata": {},
   "outputs": [],
   "source": []
  }
 ],
 "metadata": {
  "accelerator": "GPU",
  "colab": {
   "collapsed_sections": [],
   "machine_shape": "hm",
   "name": "Models_v3.ipynb",
   "provenance": []
  },
  "kernelspec": {
   "display_name": "Python 3 (ipykernel)",
   "language": "python",
   "name": "python3"
  },
  "language_info": {
   "codemirror_mode": {
    "name": "ipython",
    "version": 3
   },
   "file_extension": ".py",
   "mimetype": "text/x-python",
   "name": "python",
   "nbconvert_exporter": "python",
   "pygments_lexer": "ipython3",
   "version": "3.9.7"
  }
 },
 "nbformat": 4,
 "nbformat_minor": 1
}
